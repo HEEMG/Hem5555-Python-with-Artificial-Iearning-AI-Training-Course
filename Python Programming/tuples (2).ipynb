{
  "nbformat": 4,
  "nbformat_minor": 0,
  "metadata": {
    "kernelspec": {
      "display_name": "Python 3",
      "language": "python",
      "name": "python3"
    },
    "language_info": {
      "codemirror_mode": {
        "name": "ipython",
        "version": 3
      },
      "file_extension": ".py",
      "mimetype": "text/x-python",
      "name": "python",
      "nbconvert_exporter": "python",
      "pygments_lexer": "ipython3",
      "version": "3.7.1"
    },
    "colab": {
      "name": "tuples.ipynb",
      "provenance": []
    }
  },
  "cells": [
    {
      "cell_type": "code",
      "metadata": {
        "id": "4Qs8C0vL2Cgo",
        "outputId": "c90ddd26-7dd3-44bc-db15-4a49d5479d06"
      },
      "source": [
        "a = tuple('Python')\n",
        "a"
      ],
      "execution_count": null,
      "outputs": [
        {
          "output_type": "execute_result",
          "data": {
            "text/plain": [
              "('P', 'y', 't', 'h', 'o', 'n')"
            ]
          },
          "metadata": {
            "tags": []
          },
          "execution_count": 1
        }
      ]
    },
    {
      "cell_type": "code",
      "metadata": {
        "id": "IuxD1RnW2ChG",
        "outputId": "26b03abc-aff8-495e-f6e8-b0dee515481e"
      },
      "source": [
        "a = ('apple','ball','cat')\n",
        "a"
      ],
      "execution_count": null,
      "outputs": [
        {
          "output_type": "execute_result",
          "data": {
            "text/plain": [
              "('apple', 'ball', 'cat')"
            ]
          },
          "metadata": {
            "tags": []
          },
          "execution_count": 2
        }
      ]
    },
    {
      "cell_type": "code",
      "metadata": {
        "id": "0M0tSwLX2ChI",
        "outputId": "6a2c8af4-4ab6-4e3a-ae0e-06517b77a0af"
      },
      "source": [
        "print(a[0])\n",
        "print(a[-1])"
      ],
      "execution_count": null,
      "outputs": [
        {
          "output_type": "stream",
          "text": [
            "apple\n",
            "cat\n"
          ],
          "name": "stdout"
        }
      ]
    },
    {
      "cell_type": "code",
      "metadata": {
        "id": "r6jSpMX22ChL",
        "outputId": "5cb448b5-1026-4aac-86ae-5cd225094c2f"
      },
      "source": [
        "a = ('apple','ball','cat')\n",
        "b = (1,2,3,4,5)\n",
        "c = a+b\n",
        "print(c)"
      ],
      "execution_count": null,
      "outputs": [
        {
          "output_type": "stream",
          "text": [
            "('apple', 'ball', 'cat', 1, 2, 3, 4, 5)\n"
          ],
          "name": "stdout"
        }
      ]
    },
    {
      "cell_type": "code",
      "metadata": {
        "id": "a-iwLwo12ChO",
        "outputId": "c2fe9492-49d9-4cf3-d784-2cc37ed8bf7d"
      },
      "source": [
        "a = ('apple','ball','cat')\n",
        "d = ('apple',)\n",
        "print(a+d)"
      ],
      "execution_count": null,
      "outputs": [
        {
          "output_type": "stream",
          "text": [
            "('apple', 'ball', 'cat', 'apple')\n"
          ],
          "name": "stdout"
        }
      ]
    },
    {
      "cell_type": "code",
      "metadata": {
        "id": "0CRj-fpz2ChQ",
        "outputId": "3b410973-4f59-4bc5-8f43-3510e05a7eab"
      },
      "source": [
        "a = ('apple','ball','cat')\n",
        "for i in a:\n",
        "    print(i)"
      ],
      "execution_count": null,
      "outputs": [
        {
          "output_type": "stream",
          "text": [
            "apple\n",
            "ball\n",
            "cat\n"
          ],
          "name": "stdout"
        }
      ]
    },
    {
      "cell_type": "code",
      "metadata": {
        "id": "P8pLszKX2ChR",
        "outputId": "36d2729c-f19e-4fb9-b83f-5cd9c2fb4f65"
      },
      "source": [
        "a = ('apple','ball','cat')\n",
        "a.index('apple')"
      ],
      "execution_count": null,
      "outputs": [
        {
          "output_type": "execute_result",
          "data": {
            "text/plain": [
              "0"
            ]
          },
          "metadata": {
            "tags": []
          },
          "execution_count": 5
        }
      ]
    },
    {
      "cell_type": "code",
      "metadata": {
        "id": "9eZD5kos2ChT"
      },
      "source": [
        "a = ['apple','ball','cat']\n",
        "a.sort()\n",
        "a.reverse()"
      ],
      "execution_count": null,
      "outputs": []
    },
    {
      "cell_type": "code",
      "metadata": {
        "id": "K0omQfj22ChT",
        "outputId": "d4fccf49-b7f0-4905-93d0-404a75ca09c8"
      },
      "source": [
        "a = ('apple', 'ball', 'cat', 1, 2, 3, 4, 5)\n",
        "a[0:]"
      ],
      "execution_count": null,
      "outputs": [
        {
          "output_type": "execute_result",
          "data": {
            "text/plain": [
              "('apple', 'ball', 'cat', 1, 2, 3, 4, 5)"
            ]
          },
          "metadata": {
            "tags": []
          },
          "execution_count": 14
        }
      ]
    },
    {
      "cell_type": "code",
      "metadata": {
        "id": "X3dFAren2ChV",
        "outputId": "0dec650d-93b8-470f-d4c5-ffdbf9e40f88"
      },
      "source": [
        "a = ('apple', 'ball', 'cat', 1, 2, 3, 4, 5)\n",
        "a[0:7:2]"
      ],
      "execution_count": null,
      "outputs": [
        {
          "output_type": "execute_result",
          "data": {
            "text/plain": [
              "('apple', 'cat', 2, 4)"
            ]
          },
          "metadata": {
            "tags": []
          },
          "execution_count": 15
        }
      ]
    },
    {
      "cell_type": "code",
      "metadata": {
        "id": "4ueG-0W22ChW",
        "outputId": "3daf892f-3cc6-4434-bc3c-2f267c2a614a"
      },
      "source": [
        "a = ('apple', 'ball', 'cat', 1, 2, 3, 4, 5)\n",
        "if 'apple' in a:\n",
        "    b = a.count('apple')\n",
        "    print(\"Yes It is\",b,\"times\" )"
      ],
      "execution_count": null,
      "outputs": [
        {
          "output_type": "stream",
          "text": [
            "Yes It is 1 times\n"
          ],
          "name": "stdout"
        }
      ]
    },
    {
      "cell_type": "code",
      "metadata": {
        "id": "y9HUgnvk2ChW",
        "outputId": "bc4cc475-5a1b-41e4-d813-809d07b85490"
      },
      "source": [
        "a = ['apple', 'ball', 'cat']\n",
        "b =\"Hello world\"\n",
        "\n",
        "a[0] = a[0].upper()\n",
        "a"
      ],
      "execution_count": null,
      "outputs": [
        {
          "output_type": "execute_result",
          "data": {
            "text/plain": [
              "['APPLE', 'ball', 'cat']"
            ]
          },
          "metadata": {
            "tags": []
          },
          "execution_count": 28
        }
      ]
    },
    {
      "cell_type": "code",
      "metadata": {
        "id": "KfS5_0Kx2ChX",
        "outputId": "4ff29d1a-f8eb-4ad0-a8ac-27b8e88c5dfe"
      },
      "source": [
        "a = (1,43,56,3242,96,132,89)\n",
        "print(max(a))\n",
        "print(min(a))"
      ],
      "execution_count": null,
      "outputs": [
        {
          "output_type": "stream",
          "text": [
            "3242\n",
            "1\n"
          ],
          "name": "stdout"
        }
      ]
    },
    {
      "cell_type": "code",
      "metadata": {
        "id": "AityMfBS2ChY",
        "outputId": "6f196cc9-b6ae-4c9e-fa24-44842a531ef8"
      },
      "source": [
        "a = ((1,2,3,5),(4,5,6),(7,8,9),234,545)\n",
        "print(len(a))\n",
        "print(len(a[0]))"
      ],
      "execution_count": null,
      "outputs": [
        {
          "output_type": "stream",
          "text": [
            "5\n",
            "4\n"
          ],
          "name": "stdout"
        }
      ]
    },
    {
      "cell_type": "code",
      "metadata": {
        "id": "nl7sdmah2ChY",
        "outputId": "b715e558-1074-42ca-dbb1-c670cf08eb1b"
      },
      "source": [
        "a = ((1,2,3,5),(4,5,6),(7,8,9),234,545)\n",
        "a[2][0]"
      ],
      "execution_count": null,
      "outputs": [
        {
          "output_type": "execute_result",
          "data": {
            "text/plain": [
              "7"
            ]
          },
          "metadata": {
            "tags": []
          },
          "execution_count": 36
        }
      ]
    },
    {
      "cell_type": "code",
      "metadata": {
        "id": "ouhZNXeu2Chc",
        "outputId": "8860258b-cff9-404c-8f1a-18e5a7ced929"
      },
      "source": [
        "a = ([1,2,3,5],(4,5,6),[7,8,9],234,545)\n",
        "a[2][0]"
      ],
      "execution_count": null,
      "outputs": [
        {
          "output_type": "execute_result",
          "data": {
            "text/plain": [
              "7"
            ]
          },
          "metadata": {
            "tags": []
          },
          "execution_count": 39
        }
      ]
    },
    {
      "cell_type": "code",
      "metadata": {
        "id": "0ezCnf-I2Chd"
      },
      "source": [
        ""
      ],
      "execution_count": null,
      "outputs": []
    }
  ]
}