{
 "cells": [
  {
   "cell_type": "code",
   "execution_count": 1,
   "metadata": {},
   "outputs": [],
   "source": [
    "# def <function_name>:\n",
    "#     <operation>\n",
    "\n",
    "# <function_name>"
   ]
  },
  {
   "cell_type": "code",
   "execution_count": 3,
   "metadata": {},
   "outputs": [
    {
     "name": "stdout",
     "output_type": "stream",
     "text": [
      "I am inside function\n"
     ]
    }
   ],
   "source": [
    "def area():\n",
    "    print(\"I am inside function\")\n",
    "    \n",
    "area()"
   ]
  },
  {
   "cell_type": "code",
   "execution_count": 5,
   "metadata": {},
   "outputs": [
    {
     "name": "stdout",
     "output_type": "stream",
     "text": [
      "20\n"
     ]
    }
   ],
   "source": [
    "l = 4\n",
    "b = 5\n",
    "def area():\n",
    "    a = l*b\n",
    "    print(a)\n",
    "area()    "
   ]
  },
  {
   "cell_type": "code",
   "execution_count": 6,
   "metadata": {},
   "outputs": [
    {
     "name": "stdout",
     "output_type": "stream",
     "text": [
      "Enter any value of l = 4\n",
      "Enter any value of b = 5\n",
      "20\n"
     ]
    }
   ],
   "source": [
    "l = int(input(\"Enter any value of l = \"))\n",
    "b = int(input(\"Enter any value of b = \"))\n",
    "\n",
    "def area(l,b):\n",
    "    print(l*b)\n",
    "    \n",
    "area(l,b)"
   ]
  },
  {
   "cell_type": "code",
   "execution_count": 7,
   "metadata": {},
   "outputs": [
    {
     "name": "stdout",
     "output_type": "stream",
     "text": [
      "Enter any value of l = 4\n",
      "Enter any value of b = 5\n",
      "20\n"
     ]
    }
   ],
   "source": [
    "l = int(input(\"Enter any value of l = \"))\n",
    "b = int(input(\"Enter any value of b = \"))\n",
    "\n",
    "def area(x,y):\n",
    "    print(x*y)\n",
    "    \n",
    "area(l,b)"
   ]
  },
  {
   "cell_type": "code",
   "execution_count": 8,
   "metadata": {},
   "outputs": [
    {
     "name": "stdout",
     "output_type": "stream",
     "text": [
      "Enter any value of l = 4\n",
      "Enter any value of b = 5\n",
      "Enter any value of h = 6\n",
      "120\n",
      "20\n"
     ]
    }
   ],
   "source": [
    "l = int(input(\"Enter any value of l = \"))\n",
    "b = int(input(\"Enter any value of b = \"))\n",
    "h = int(input(\"Enter any value of h = \"))\n",
    "\n",
    "def area(x,y):\n",
    "    print(x*y)\n",
    "\n",
    "def volume(x,y,z):\n",
    "    print(x*y*z)\n",
    "\n",
    "volume(l,b,h)\n",
    "area(l,b)"
   ]
  },
  {
   "cell_type": "code",
   "execution_count": 9,
   "metadata": {},
   "outputs": [
    {
     "name": "stdout",
     "output_type": "stream",
     "text": [
      "Enter any value of l = 3\n",
      "Enter any value of b = 4\n",
      "Enter any value of h = 5\n",
      "60\n",
      "12\n"
     ]
    }
   ],
   "source": [
    "l = int(input(\"Enter any value of l = \"))\n",
    "b = int(input(\"Enter any value of b = \"))\n",
    "h = int(input(\"Enter any value of h = \"))\n",
    "\n",
    "def area(x,y):\n",
    "    return x*y\n",
    "\n",
    "def volume(x,y,z):\n",
    "    return x*y*z\n",
    "\n",
    "print(volume(l,b,h))\n",
    "print(area(l,b))"
   ]
  },
  {
   "cell_type": "code",
   "execution_count": 12,
   "metadata": {},
   "outputs": [
    {
     "name": "stdout",
     "output_type": "stream",
     "text": [
      "Enter value of a = 4\n",
      "Enter value of b = 5\n",
      "Enter operator(+ - / * ) = /\n",
      "0.8\n"
     ]
    }
   ],
   "source": [
    "# Recursive function\n",
    "a = int(input(\"Enter value of a = \"))\n",
    "b = int(input(\"Enter value of b = \"))\n",
    "o = input(\"Enter operator(+ - / * ) = \")\n",
    "\n",
    "def add(a,b):\n",
    "    return a+b\n",
    "def sub(a,b):\n",
    "    return a-b\n",
    "def mul(a,b):\n",
    "    return a*b\n",
    "def div(a,b):\n",
    "    return a/b\n",
    "\n",
    "if o == '+':\n",
    "    print(add(a,b))\n",
    "elif o == '-':\n",
    "    print(sub(a,b))\n",
    "elif o == '*':\n",
    "    print(mul(a,b))\n",
    "elif o == '/':\n",
    "    print(div(a,b))\n",
    "else:\n",
    "    print(\"Enter valid operator\")"
   ]
  },
  {
   "cell_type": "markdown",
   "metadata": {},
   "source": []
  },
  {
   "cell_type": "code",
   "execution_count": null,
   "metadata": {},
   "outputs": [],
   "source": [
    "# Recursive function\n",
    "a = int(input(\"Enter value of a = \"))\n",
    "b = int(input(\"Enter value of b = \"))\n",
    "o = input(\"Enter operator(+ - / * ) = \")\n",
    "\n",
    "def add(a,b):\n",
    "    return a+b\n",
    "def sub(a,b):\n",
    "    return a-b\n",
    "def mul(a,b):\n",
    "    return a*b\n",
    "def div(a,b):\n",
    "    return a/b\n",
    "\n",
    "if o == '+':\n",
    "    print(add(a,b))\n",
    "elif o == '-':\n",
    "    print(sub(a,b))\n",
    "elif o == '*':\n",
    "    print(mul(a,b))\n",
    "\n",
    "elif o == '/' and b!= 0:\n",
    "    print(div(a,b))\n",
    "    \n",
    "elif o == '/' and b== 0:\n",
    "    print(\"The value of b can not be zero\")\n",
    "    \n",
    "    \n",
    "else:\n",
    "    print(\"Enter valid operator\")"
   ]
  },
  {
   "cell_type": "code",
   "execution_count": 13,
   "metadata": {},
   "outputs": [
    {
     "name": "stdout",
     "output_type": "stream",
     "text": [
      "(1, 2, 3, 4, 5, 6)\n"
     ]
    }
   ],
   "source": [
    "def data(a):\n",
    "    print(a)\n",
    "    \n",
    "a =(1,2,3,4,5,6) #tuples\n",
    "\n",
    "data(a)"
   ]
  },
  {
   "cell_type": "code",
   "execution_count": 14,
   "metadata": {},
   "outputs": [
    {
     "name": "stdout",
     "output_type": "stream",
     "text": [
      "('apple', 'ball', 'cat')\n"
     ]
    }
   ],
   "source": [
    "def data(a):\n",
    "    print(a)\n",
    "    \n",
    "a =('apple','ball','cat') #tuples\n",
    "\n",
    "data(a)"
   ]
  },
  {
   "cell_type": "code",
   "execution_count": 16,
   "metadata": {},
   "outputs": [
    {
     "name": "stdout",
     "output_type": "stream",
     "text": [
      "apple\n",
      "ball\n",
      "cat\n"
     ]
    }
   ],
   "source": [
    "def data(a):\n",
    "    x,y,z = a\n",
    "    print(x)\n",
    "    print(y)\n",
    "    print(z)\n",
    "    \n",
    "a =('apple','ball','cat') #tuples\n",
    "\n",
    "data(a)"
   ]
  },
  {
   "cell_type": "code",
   "execution_count": 17,
   "metadata": {},
   "outputs": [
    {
     "name": "stdout",
     "output_type": "stream",
     "text": [
      "Php\n",
      "Java\n",
      ".Net\n",
      "Python\n"
     ]
    }
   ],
   "source": [
    "# default argument in function\n",
    "def language(lan = \"Python\"):\n",
    "    print(lan)\n",
    "    \n",
    "language(\"Php\")\n",
    "language(\"Java\")\n",
    "language(\".Net\")\n",
    "language()"
   ]
  },
  {
   "cell_type": "code",
   "execution_count": null,
   "metadata": {},
   "outputs": [
    {
     "name": "stdout",
     "output_type": "stream",
     "text": [
      "Enter the value of a = 4\n",
      "Enter the value of b = 3\n",
      "Enter + or - or * or /  = asdsd\n",
      "Enter Valid operator\n"
     ]
    }
   ],
   "source": [
    "# Recursive function\n",
    "def values():\n",
    "    a = int(input(\"Enter the value of a = \"))\n",
    "    b = int(input(\"Enter the value of b = \"))\n",
    "    o = input(\"Enter + or - or * or /  = \")\n",
    "    if o =='+':\n",
    "        print(add(a,b))\n",
    "    elif o =='-':\n",
    "        print(sub(a,b))\n",
    "    elif o =='*':\n",
    "        print(mul(a*b))\n",
    "    elif (o =='/' and b!=0):\n",
    "        print(div(a,b))\n",
    "    elif (o =='/' and b==0):\n",
    "         print(\"The value of b cant be zero\")\n",
    "         values()\n",
    "    else:\n",
    "        print(\"Enter Valid operator\")\n",
    "        values()\n",
    "\n",
    "def add(a,b):\n",
    "    return a+b\n",
    "def sub(a,b):\n",
    "    return a-b\n",
    "def mul(a,b):\n",
    "    return a*b\n",
    "def div(a,b):\n",
    "    return a/b\n",
    "\n",
    "values()"
   ]
  },
  {
   "cell_type": "code",
   "execution_count": 1,
   "metadata": {},
   "outputs": [
    {
     "name": "stdout",
     "output_type": "stream",
     "text": [
      "Enter the value of radius = 4\n",
      "50.26548245743669\n"
     ]
    }
   ],
   "source": [
    "# Math function\n",
    "import math as m\n",
    "r = int(input(\"Enter the value of radius = \"))\n",
    "a = m.pi*r**2\n",
    "print(a)"
   ]
  },
  {
   "cell_type": "code",
   "execution_count": 2,
   "metadata": {},
   "outputs": [
    {
     "name": "stdout",
     "output_type": "stream",
     "text": [
      "Enter the value of radius = 4\n",
      "50.26548245743669\n"
     ]
    }
   ],
   "source": [
    "# Math function\n",
    "import math as m\n",
    "r = int(input(\"Enter the value of radius = \"))\n",
    "\n",
    "print(a)"
   ]
  },
  {
   "cell_type": "code",
   "execution_count": 5,
   "metadata": {},
   "outputs": [
    {
     "name": "stdout",
     "output_type": "stream",
     "text": [
      "Enter the value of radius = 5\n",
      "The factorial of 5 is =  120\n"
     ]
    }
   ],
   "source": [
    "# factorial math function\n",
    "import math as m\n",
    "r = int(input(\"Enter the value of radius = \"))\n",
    "a = m.factorial(r)\n",
    "print(\"The factorial of\",r,\"is = \",a)"
   ]
  },
  {
   "cell_type": "code",
   "execution_count": 7,
   "metadata": {},
   "outputs": [
    {
     "name": "stdout",
     "output_type": "stream",
     "text": [
      "1.0\n"
     ]
    }
   ],
   "source": [
    "# trigonometric math function\n",
    "import math as m\n",
    "print(m.sin(m.pi/2))"
   ]
  },
  {
   "cell_type": "code",
   "execution_count": 11,
   "metadata": {},
   "outputs": [
    {
     "name": "stdout",
     "output_type": "stream",
     "text": [
      "1.0\n"
     ]
    }
   ],
   "source": [
    "import math as m\n",
    "p = m.pow(m.sin(m.pi/2),2) + m.pow(m.cos(m.pi/2),2)\n",
    "print(p)\n",
    "# a = m.pi*m.pow(r,2)"
   ]
  },
  {
   "cell_type": "code",
   "execution_count": null,
   "metadata": {},
   "outputs": [],
   "source": []
  }
 ],
 "metadata": {
  "kernelspec": {
   "display_name": "Python 3",
   "language": "python",
   "name": "python3"
  },
  "language_info": {
   "codemirror_mode": {
    "name": "ipython",
    "version": 3
   },
   "file_extension": ".py",
   "mimetype": "text/x-python",
   "name": "python",
   "nbconvert_exporter": "python",
   "pygments_lexer": "ipython3",
   "version": "3.7.1"
  }
 },
 "nbformat": 4,
 "nbformat_minor": 2
}
