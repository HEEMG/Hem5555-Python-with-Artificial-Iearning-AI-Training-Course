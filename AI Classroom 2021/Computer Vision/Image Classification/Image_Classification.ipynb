{
  "nbformat": 4,
  "nbformat_minor": 0,
  "metadata": {
    "kernelspec": {
      "display_name": "Python 3",
      "language": "python",
      "name": "python3"
    },
    "language_info": {
      "codemirror_mode": {
        "name": "ipython",
        "version": 3
      },
      "file_extension": ".py",
      "mimetype": "text/x-python",
      "name": "python",
      "nbconvert_exporter": "python",
      "pygments_lexer": "ipython3",
      "version": "3.7.1"
    },
    "colab": {
      "name": "Image_Classification.ipynb",
      "provenance": [],
      "collapsed_sections": []
    },
    "accelerator": "GPU"
  },
  "cells": [
    {
      "cell_type": "code",
      "metadata": {
        "id": "St0372FUe3IY"
      },
      "source": [
        "# keras\n",
        "# tensorflow\n",
        "!unzip "
      ],
      "execution_count": null,
      "outputs": []
    },
    {
      "cell_type": "code",
      "metadata": {
        "colab": {
          "base_uri": "https://localhost:8080/"
        },
        "id": "mQ4oE6kwpP_c",
        "outputId": "c7edf2c5-4326-4f54-f36b-7cdee2aadef9"
      },
      "source": [
        "from google.colab import drive\n",
        "drive.mount('/content/drive')"
      ],
      "execution_count": null,
      "outputs": [
        {
          "output_type": "stream",
          "text": [
            "Mounted at /content/drive\n"
          ],
          "name": "stdout"
        }
      ]
    },
    {
      "cell_type": "code",
      "metadata": {
        "id": "W8pZpgr5e3Ik"
      },
      "source": [
        "# Importing the packages\n",
        "from keras.models import Sequential\n",
        "from keras.layers import Conv2D\n",
        "from keras.layers import MaxPooling2D\n",
        "from keras.layers import Flatten\n",
        "from keras.layers import Dense"
      ],
      "execution_count": null,
      "outputs": []
    },
    {
      "cell_type": "code",
      "metadata": {
        "id": "0PNnYheFe3Im"
      },
      "source": [
        "# initialising the CNN,Convolution,Pooling\n",
        "classifier = Sequential()\n",
        "\n",
        "# Step 1 - Convolution\n",
        "classifier.add(Conv2D(32, (3, 3), input_shape = (64, 64, 3), activation = 'relu'))\n",
        "# Step 2 - Pooling\n",
        "classifier.add(MaxPooling2D(pool_size = (2, 2)))"
      ],
      "execution_count": null,
      "outputs": []
    },
    {
      "cell_type": "code",
      "metadata": {
        "id": "BG6yc7d4e3In"
      },
      "source": [
        ""
      ],
      "execution_count": null,
      "outputs": []
    },
    {
      "cell_type": "code",
      "metadata": {
        "id": "lNEVUUwTe3In"
      },
      "source": [
        "# Adding a second convolutional layer\n",
        "classifier.add(Conv2D(32, (3, 3), activation = 'relu'))\n",
        "classifier.add(MaxPooling2D(pool_size = (2, 2)))\n",
        "\n"
      ],
      "execution_count": null,
      "outputs": []
    },
    {
      "cell_type": "code",
      "metadata": {
        "id": "z-Rx-aM4e3Io"
      },
      "source": [
        "# Step 3 - Flattening\n",
        "classifier.add(Flatten())"
      ],
      "execution_count": null,
      "outputs": []
    },
    {
      "cell_type": "code",
      "metadata": {
        "id": "PxwsB2VAe3Iq"
      },
      "source": [
        "# Step 4 - Full connection\n",
        "classifier.add(Dense(units = 128, activation = 'relu'))\n",
        "classifier.add(Dense(units = 32, activation = 'relu'))\n",
        "classifier.add(Dense(units = 16, activation = 'relu'))\n",
        "classifier.add(Dense(units = 1, activation = 'sigmoid'))"
      ],
      "execution_count": null,
      "outputs": []
    },
    {
      "cell_type": "code",
      "metadata": {
        "id": "rQVaTM7Ne3Ir"
      },
      "source": [
        "# step5\n",
        "# Compiling the CNN\n",
        "classifier.compile(optimizer = 'adam',loss = 'binary_crossentropy', metrics = ['accuracy'])\n",
        "# adam = adaptive learning rate optimization algorithm\n",
        "#  it computes individual learning rates for different parameters"
      ],
      "execution_count": null,
      "outputs": []
    },
    {
      "cell_type": "code",
      "metadata": {
        "id": "saDMwHs9e3Is"
      },
      "source": [
        "# Part 2 - Fitting the CNN to the images\n",
        "# This is also called Image Augmentation\n",
        "# Preprocessing the image to prevent overfitting(good result in the training set but \n",
        "# poor result in test set)\n",
        "\n",
        "from keras.preprocessing.image import ImageDataGenerator\n",
        "\n",
        "train_datagen = ImageDataGenerator(rescale = 1./255,\n",
        "                                    shear_range = 0.2,\n",
        "                                   zoom_range = 0.2,\n",
        "                                   horizontal_flip = True)"
      ],
      "execution_count": null,
      "outputs": []
    },
    {
      "cell_type": "code",
      "metadata": {
        "id": "zO_2XlP0e3It"
      },
      "source": [
        "test_datagen = ImageDataGenerator(rescale = 1./255)\n"
      ],
      "execution_count": null,
      "outputs": []
    },
    {
      "cell_type": "code",
      "metadata": {
        "id": "BCuUS0Goe3Iu",
        "colab": {
          "base_uri": "https://localhost:8080/"
        },
        "outputId": "2ba7f0cf-c680-4b2d-cb17-a695ef64e7d7"
      },
      "source": [
        "batch_size = 16\n",
        "\n",
        "training_set = train_datagen.flow_from_directory('/content/drive/MyDrive/dogvscat/dataset/training_set',\n",
        "                                                 target_size = (64, 64),\n",
        "                                                 batch_size = 16,\n",
        "                                                 class_mode = 'binary')"
      ],
      "execution_count": null,
      "outputs": [
        {
          "output_type": "stream",
          "text": [
            "Found 8000 images belonging to 2 classes.\n"
          ],
          "name": "stdout"
        }
      ]
    },
    {
      "cell_type": "code",
      "metadata": {
        "colab": {
          "base_uri": "https://localhost:8080/"
        },
        "id": "g3S3VrMAfp8n",
        "outputId": "9747b4d9-93e3-4f90-834d-e1fd80affeb8"
      },
      "source": [
        "!unzip "
      ],
      "execution_count": null,
      "outputs": [
        {
          "output_type": "stream",
          "text": [
            "UnZip 6.00 of 20 April 2009, by Debian. Original by Info-ZIP.\n",
            "\n",
            "Usage: unzip [-Z] [-opts[modifiers]] file[.zip] [list] [-x xlist] [-d exdir]\n",
            "  Default action is to extract files in list, except those in xlist, to exdir;\n",
            "  file[.zip] may be a wildcard.  -Z => ZipInfo mode (\"unzip -Z\" for usage).\n",
            "\n",
            "  -p  extract files to pipe, no messages     -l  list files (short format)\n",
            "  -f  freshen existing files, create none    -t  test compressed archive data\n",
            "  -u  update files, create if necessary      -z  display archive comment only\n",
            "  -v  list verbosely/show version info       -T  timestamp archive to latest\n",
            "  -x  exclude files that follow (in xlist)   -d  extract files into exdir\n",
            "modifiers:\n",
            "  -n  never overwrite existing files         -q  quiet mode (-qq => quieter)\n",
            "  -o  overwrite files WITHOUT prompting      -a  auto-convert any text files\n",
            "  -j  junk paths (do not make directories)   -aa treat ALL files as text\n",
            "  -U  use escapes for all non-ASCII Unicode  -UU ignore any Unicode fields\n",
            "  -C  match filenames case-insensitively     -L  make (some) names lowercase\n",
            "  -X  restore UID/GID info                   -V  retain VMS version numbers\n",
            "  -K  keep setuid/setgid/tacky permissions   -M  pipe through \"more\" pager\n",
            "  -O CHARSET  specify a character encoding for DOS, Windows and OS/2 archives\n",
            "  -I CHARSET  specify a character encoding for UNIX and other archives\n",
            "\n",
            "See \"unzip -hh\" or unzip.txt for more help.  Examples:\n",
            "  unzip data1 -x joe   => extract all files except joe from zipfile data1.zip\n",
            "  unzip -p foo | more  => send contents of foo.zip via pipe into program more\n",
            "  unzip -fo foo ReadMe => quietly replace existing ReadMe if archive file newer\n"
          ],
          "name": "stdout"
        }
      ]
    },
    {
      "cell_type": "code",
      "metadata": {
        "id": "2dgKHdVVe3Iu",
        "colab": {
          "base_uri": "https://localhost:8080/"
        },
        "outputId": "dd1cbb6f-f50c-42ad-cb20-3f4f934491c7"
      },
      "source": [
        "# bach size =  number of training examples utilized in one iteration\n",
        "test_set = test_datagen.flow_from_directory('/content/drive/MyDrive/dogvscat/dataset/test_set',\n",
        "                                            target_size = (64, 64),\n",
        "                                            batch_size = 16,\n",
        "                                            class_mode = 'binary')"
      ],
      "execution_count": null,
      "outputs": [
        {
          "output_type": "stream",
          "text": [
            "Found 2000 images belonging to 2 classes.\n"
          ],
          "name": "stdout"
        }
      ]
    },
    {
      "cell_type": "code",
      "metadata": {
        "id": "F5eiBlUke3Iv",
        "colab": {
          "base_uri": "https://localhost:8080/"
        },
        "outputId": "6312e8e4-468b-412a-fb7f-fda0b32341e2"
      },
      "source": [
        "classifier.fit_generator(training_set,\n",
        "                         steps_per_epoch =8000//batch_size, #no of training image\n",
        "                         epochs = 10,\n",
        "                         validation_data = test_set,\n",
        "                         validation_steps = 2000//batch_size) #no of test image\n",
        "classifier.save(\"/content/drive/MyDrive/dogvscat/dataset/cats_vs_dogs_V5.h5\")"
      ],
      "execution_count": null,
      "outputs": [
        {
          "output_type": "stream",
          "text": [
            "/usr/local/lib/python3.7/dist-packages/tensorflow/python/keras/engine/training.py:1844: UserWarning: `Model.fit_generator` is deprecated and will be removed in a future version. Please use `Model.fit`, which supports generators.\n",
            "  warnings.warn('`Model.fit_generator` is deprecated and '\n"
          ],
          "name": "stderr"
        },
        {
          "output_type": "stream",
          "text": [
            "Epoch 1/10\n",
            "500/500 [==============================] - 958s 2s/step - loss: 0.6708 - accuracy: 0.5828 - val_loss: 0.6535 - val_accuracy: 0.6170\n",
            "Epoch 2/10\n",
            "500/500 [==============================] - 41s 82ms/step - loss: 0.6308 - accuracy: 0.6557 - val_loss: 0.6401 - val_accuracy: 0.6370\n",
            "Epoch 3/10\n",
            "500/500 [==============================] - 41s 82ms/step - loss: 0.5933 - accuracy: 0.6851 - val_loss: 0.5803 - val_accuracy: 0.7160\n",
            "Epoch 4/10\n",
            "500/500 [==============================] - 41s 81ms/step - loss: 0.5658 - accuracy: 0.7034 - val_loss: 0.5795 - val_accuracy: 0.7050\n",
            "Epoch 5/10\n",
            "500/500 [==============================] - 41s 81ms/step - loss: 0.5319 - accuracy: 0.7311 - val_loss: 0.5196 - val_accuracy: 0.7645\n",
            "Epoch 6/10\n",
            "500/500 [==============================] - 41s 81ms/step - loss: 0.5072 - accuracy: 0.7469 - val_loss: 0.5250 - val_accuracy: 0.7430\n",
            "Epoch 7/10\n",
            "500/500 [==============================] - 41s 81ms/step - loss: 0.4754 - accuracy: 0.7654 - val_loss: 0.5525 - val_accuracy: 0.7380\n",
            "Epoch 8/10\n",
            "500/500 [==============================] - 41s 82ms/step - loss: 0.4607 - accuracy: 0.7805 - val_loss: 0.4942 - val_accuracy: 0.7770\n",
            "Epoch 9/10\n",
            "500/500 [==============================] - 41s 81ms/step - loss: 0.4367 - accuracy: 0.7985 - val_loss: 0.5081 - val_accuracy: 0.7670\n",
            "Epoch 10/10\n",
            "500/500 [==============================] - 41s 82ms/step - loss: 0.4266 - accuracy: 0.7990 - val_loss: 0.4927 - val_accuracy: 0.7580\n"
          ],
          "name": "stdout"
        }
      ]
    },
    {
      "cell_type": "code",
      "metadata": {
        "id": "BBYCogH1e3Iw",
        "outputId": "dc81e0ce-6224-4c76-cbe1-722d4889b9fa"
      },
      "source": [
        "import numpy as np\n",
        "from keras.preprocessing import image\n",
        "test_image = image.load_img('dataset/single_prediction/cat_or_dog_2.jpg',\n",
        "                                     target_size = (64,64))\n",
        "test_image = image.img_to_array(test_image)\n",
        "test_image = np.expand_dims(test_image,axis = 0)\n",
        "result = classifier.predict(test_image)\n",
        "\n",
        "\n",
        "if result[0][0]==1:\n",
        "    prediction = 'dog'\n",
        "    print(prediction)\n",
        "else:\n",
        "    prediction='cat'\n",
        "    print(prediction)\n",
        "    "
      ],
      "execution_count": null,
      "outputs": [
        {
          "output_type": "stream",
          "text": [
            "W1119 19:31:21.936205 12264 deprecation_wrapper.py:119] From C:\\Users\\coral\\Anaconda3\\envs\\CV\\lib\\site-packages\\keras\\backend\\tensorflow_backend.py:2741: The name tf.Session is deprecated. Please use tf.compat.v1.Session instead.\n",
            "\n"
          ],
          "name": "stderr"
        },
        {
          "output_type": "stream",
          "text": [
            "cat\n"
          ],
          "name": "stdout"
        }
      ]
    },
    {
      "cell_type": "code",
      "metadata": {
        "id": "lxaaKBL4e3Iw"
      },
      "source": [
        "import numpy as np\n",
        "import keras\n",
        "from keras.preprocessing import image\n",
        "from keras.models import load_model\n",
        "\n",
        "classifier = load_model('dataset/cats_vs_dogs_V1.h5')\n",
        "test_image = image.load_img('dataset/single_prediction/cat_or_dog_2.jpg',target_size = (64,64))\n",
        "\n",
        "\n",
        "test_image = image.img_to_array(test_image)\n",
        "test_image = np.expand_dims(test_image,axis = 0)\n",
        "result = classifier.predict(test_image)\n",
        "# result = [[0 ]]\n",
        "\n",
        "if result[0][0]==1:\n",
        "    prediction = 'dog'\n",
        "    print(prediction)\n",
        "elif result[0][0]==0:\n",
        "    prediction='cat'\n",
        "    print(prediction)"
      ],
      "execution_count": null,
      "outputs": []
    },
    {
      "cell_type": "code",
      "metadata": {
        "id": "jgsPHe0ae3Ix"
      },
      "source": [
        ""
      ],
      "execution_count": null,
      "outputs": []
    },
    {
      "cell_type": "code",
      "metadata": {
        "id": "1EHh_4YTe3Ix"
      },
      "source": [
        ""
      ],
      "execution_count": null,
      "outputs": []
    },
    {
      "cell_type": "code",
      "metadata": {
        "id": "5TRALxTde3Ix"
      },
      "source": [
        ""
      ],
      "execution_count": null,
      "outputs": []
    }
  ]
}