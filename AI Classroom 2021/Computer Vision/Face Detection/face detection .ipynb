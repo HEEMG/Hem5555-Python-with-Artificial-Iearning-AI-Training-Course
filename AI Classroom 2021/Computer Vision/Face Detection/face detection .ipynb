{
  "nbformat": 4,
  "nbformat_minor": 0,
  "metadata": {
    "kernelspec": {
      "display_name": "Python 3",
      "language": "python",
      "name": "python3"
    },
    "language_info": {
      "codemirror_mode": {
        "name": "ipython",
        "version": 3
      },
      "file_extension": ".py",
      "mimetype": "text/x-python",
      "name": "python",
      "nbconvert_exporter": "python",
      "pygments_lexer": "ipython3",
      "version": "3.7.1"
    },
    "colab": {
      "name": "Untitled2.ipynb",
      "provenance": []
    }
  },
  "cells": [
    {
      "cell_type": "code",
      "metadata": {
        "id": "yWFfQ81JKLv5"
      },
      "source": [
        "import cv2\n",
        "import numpy as np\n",
        "# load harr cascade classifier\n",
        "face_detection = cv2.CascadeClassifier('haarcascade_frontalface_alt.xml')\n",
        "eye_detection = cv2.CascadeClassifier('haarcascade_eye.xml')"
      ],
      "execution_count": null,
      "outputs": []
    },
    {
      "cell_type": "code",
      "metadata": {
        "id": "aKie9QdNKLwC"
      },
      "source": [
        "def detect(gray,frame):\n",
        "    face = face_detection.detectMultiScale(gray,1.3,5)\n",
        "    for (x,y,w,h) in face:\n",
        "        cv2.rectangle(frame,(x,y),(x+w,y+h),(0,255,0),3)\n",
        "        \n",
        "        face_gray = gray[y:y+h,x:x+w]\n",
        "        face_color = frame[y:y+h,x:x+w]\n",
        "        \n",
        "        eye = eye_detection.detectMultiScale(face_gray,1.1,3)\n",
        "        for (ex,ey,ew,eh) in eye:\n",
        "            cv2.rectangle(face_color,(ex,ey),(ex+ew,ey+eh),(255,0,0),3)\n",
        "    return frame"
      ],
      "execution_count": null,
      "outputs": []
    },
    {
      "cell_type": "code",
      "metadata": {
        "id": "c2o9z63UKLwD"
      },
      "source": [
        "video_capture = cv2.VideoCapture(0) #turn the webcam ON"
      ],
      "execution_count": null,
      "outputs": []
    },
    {
      "cell_type": "code",
      "metadata": {
        "id": "UtRe-6NpKLwD"
      },
      "source": [
        "while True:\n",
        "    ret,frame = video_capture.read()\n",
        "    \n",
        "    gray = cv2.cvtColor(frame,cv2.COLOR_BGR2GRAY)\n",
        "    output = detect(gray,frame)\n",
        "    cv2.imshow('My video',output)\n",
        "    if cv2.waitKey(1) & 0xFF == ord('q'):\n",
        "        cv2.destroyAllWindows()\n",
        "        break"
      ],
      "execution_count": null,
      "outputs": []
    },
    {
      "cell_type": "code",
      "metadata": {
        "id": "eC7kLk1eKLwD"
      },
      "source": [
        ""
      ],
      "execution_count": null,
      "outputs": []
    }
  ]
}